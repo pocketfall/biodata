{
  "nbformat": 4,
  "nbformat_minor": 0,
  "metadata": {
    "colab": {
      "provenance": [],
      "include_colab_link": true
    },
    "kernelspec": {
      "name": "python3",
      "display_name": "Python 3"
    },
    "language_info": {
      "name": "python"
    }
  },
  "cells": [
    {
      "cell_type": "markdown",
      "metadata": {
        "id": "view-in-github",
        "colab_type": "text"
      },
      "source": [
        "<a href=\"https://colab.research.google.com/github/pocketfall/biodata/blob/main/testing_pydwca.ipynb\" target=\"_parent\"><img src=\"https://colab.research.google.com/assets/colab-badge.svg\" alt=\"Open In Colab\"/></a>"
      ]
    },
    {
      "cell_type": "markdown",
      "source": [
        "# Testeando pydwca 0.3.0\n",
        "* # **Resumen de resultados al final de Notebook**\n",
        "* ## Usando archivos .zip dwca-plagioscion, dwca-pygmy_jellyfish\n",
        "* ## Archivos eml usados de los mismos .zip\n",
        "* ## Testeo hecho en pycharm de manera local inicialmente, se adaptó código para uso en google colab\n",
        "* ## Documentación:\n",
        "> https://pydwca.readthedocs.io/en/latest/index.html\n",
        "* ## Referencias\n",
        "> * CSIRO National Collections and Marine Infrastructure (NCMI) Information and Data Centre (IDC): A new pygmy species of box jellyfish (Cubozoa: Chirodropida) from sub-tropical Australia https://doi.org/10.15468/bdr9bd accessed via GBIF.org on 2024-08-12.\n",
        "> * Lilian Casatti, Stierhof T (2005). Revision of the South American freshwater genus Plagioscion (Teleostei, Perciformes, Sciaenidae).. Plazi.org taxonomic treatments database. Checklist dataset https://doi.org/10.15468/wk03zz accessed via GBIF.org on 2024-08-12."
      ],
      "metadata": {
        "id": "eZkKmVXSKLnE"
      }
    },
    {
      "cell_type": "markdown",
      "source": [
        "# Modulo dwca\n",
        "## 1.\n",
        "### Leyendo dwca-plagioscion.zip usando DarwinCoreArchive\n",
        "\n",
        "### Ejemplo dado en documentación:\n",
        "```\n",
        "from dwca import DarwinCoreArchive\n",
        "\n",
        "darwin_core = DarwinCoreArchive.from_archive(\"DwCArchive.zip\")\n",
        "```\n",
        "\n",
        "`.from_archive()` no es un método válido, así que se usa `.from_file()`"
      ],
      "metadata": {
        "id": "OlN0w5wHW8J0"
      }
    },
    {
      "cell_type": "code",
      "source": [
        "# dependencias\n",
        "try:\n",
        "  from dwca import DarwinCoreArchive\n",
        "except:\n",
        "  %pip install pydwca\n",
        "  from dwca import DarwinCoreArchive\n",
        "%pip show pydwca\n",
        "\n",
        "from pathlib import Path\n",
        "from os import walk, mkdir, path\n",
        "import requests"
      ],
      "metadata": {
        "colab": {
          "base_uri": "https://localhost:8080/"
        },
        "id": "S1M9qZVWWlDV",
        "outputId": "11db7f95-ce77-4cd1-c02c-043d4753dcbd"
      },
      "execution_count": null,
      "outputs": [
        {
          "output_type": "stream",
          "name": "stdout",
          "text": [
            "Collecting pydwca\n",
            "  Downloading pydwca-0.3.0-py3-none-any.whl.metadata (4.5 kB)\n",
            "Collecting datetime-interval>=0.2 (from pydwca)\n",
            "  Downloading datetime-interval-0.2.tar.gz (4.2 kB)\n",
            "  Preparing metadata (setup.py) ... \u001b[?25l\u001b[?25hdone\n",
            "Requirement already satisfied: lxml>=5.1.0 in /usr/local/lib/python3.10/dist-packages (from pydwca) (5.3.0)\n",
            "Downloading pydwca-0.3.0-py3-none-any.whl (129 kB)\n",
            "\u001b[2K   \u001b[90m━━━━━━━━━━━━━━━━━━━━━━━━━━━━━━━━━━━━━━━━\u001b[0m \u001b[32m129.9/129.9 kB\u001b[0m \u001b[31m1.7 MB/s\u001b[0m eta \u001b[36m0:00:00\u001b[0m\n",
            "\u001b[?25hBuilding wheels for collected packages: datetime-interval\n",
            "  Building wheel for datetime-interval (setup.py) ... \u001b[?25l\u001b[?25hdone\n",
            "  Created wheel for datetime-interval: filename=datetime_interval-0.2-py3-none-any.whl size=5157 sha256=74a475aaa77fa17acbd6187e743a960088524a2388a7ef4a48c76306fbe9e984\n",
            "  Stored in directory: /root/.cache/pip/wheels/a1/19/33/73c880a0d97af4c8e0739141dd70914bf9b7339ccce84fe01e\n",
            "Successfully built datetime-interval\n",
            "Installing collected packages: datetime-interval, pydwca\n",
            "Successfully installed datetime-interval-0.2 pydwca-0.3.0\n",
            "Name: pydwca\n",
            "Version: 0.3.0\n",
            "Summary: Python library to read, parse and write Darwin Core Archive files\n",
            "Home-page: \n",
            "Author: \n",
            "Author-email: Juan Saez Hidalgo <jmsaez@ieb-chile.cl>\n",
            "License: \n",
            "Location: /usr/local/lib/python3.10/dist-packages\n",
            "Requires: datetime-interval, lxml\n",
            "Required-by: \n"
          ]
        }
      ]
    },
    {
      "cell_type": "code",
      "source": [
        "# funcion para descargar data\n",
        "def download_data(source: str,\n",
        "                  is_list: bool= False) -> Path:\n",
        "    \"\"\"Downloads a dataset from source\n",
        "\n",
        "    Args:\n",
        "        source (str): A link to a file containing data.\n",
        "\n",
        "    Returns:\n",
        "        pathlib.Path to downloaded data.\n",
        "\n",
        "    Example usage:\n",
        "        download_data(source=\"https://github.com/mrdbourke/pytorch-deep-learning/raw/main/data/pizza_steak_sushi.zip\",\n",
        "                      destination=\"pizza_steak_sushi\")\n",
        "    \"\"\"\n",
        "    # Setup path to data folder\n",
        "    data_path = Path(\"data/\")\n",
        "\n",
        "    # If the image folder doesn't exist, download it and prepare it...\n",
        "    if data_path.is_dir() and is_list is False:\n",
        "        print(f\"[INFO] {data_path} directory exists, skipping download.\")\n",
        "    else:\n",
        "        print(f\"[INFO] Did not find {data_path / source.split('/')[-1]} directory, creating one...\")\n",
        "        data_path.mkdir(parents=True, exist_ok=True)\n",
        "\n",
        "        # Download data\n",
        "        target_file = Path(source).name\n",
        "        with open(data_path / target_file, \"wb\") as f:\n",
        "            request = requests.get(source)\n",
        "            print(f\"[INFO] Downloading {target_file} from {source}...\")\n",
        "            f.write(request.content)\n",
        "    return data_path"
      ],
      "metadata": {
        "id": "WvvZ_IQPtdKj"
      },
      "execution_count": null,
      "outputs": []
    },
    {
      "cell_type": "code",
      "source": [
        "# consiguiendo path de los archivos .zip y .xml\n",
        "sources = [\"https://github.com/pocketfall/biodata/raw/main/data/dwca_colab/dwca-pygmy_jellyfish-v1.5.zip\",\n",
        "           \"https://github.com/pocketfall/biodata/raw/main/data/dwca_colab/eml_plag.xml\",\n",
        "           \"https://github.com/pocketfall/biodata/raw/main/data/dwca_colab/eml_pyg.xml\",\n",
        "           \"https://github.com/pocketfall/biodata/raw/main/data/dwca_colab/dwca-plagioscion.zip\"]\n",
        "source_paths = [download_data(source= i, is_list= True) / i.split(\"/\")[-1] for i in sources]\n",
        "source_paths"
      ],
      "metadata": {
        "id": "StxBjgjxL6Mm",
        "colab": {
          "base_uri": "https://localhost:8080/"
        },
        "outputId": "fdf14f01-47f4-49d8-c505-4903422b6f66"
      },
      "execution_count": null,
      "outputs": [
        {
          "output_type": "stream",
          "name": "stdout",
          "text": [
            "[INFO] Did not find data/dwca-pygmy_jellyfish-v1.5.zip directory, creating one...\n",
            "[INFO] Downloading dwca-pygmy_jellyfish-v1.5.zip from https://github.com/pocketfall/biodata/raw/main/data/dwca_colab/dwca-pygmy_jellyfish-v1.5.zip...\n",
            "[INFO] Did not find data/eml_plag.xml directory, creating one...\n",
            "[INFO] Downloading eml_plag.xml from https://github.com/pocketfall/biodata/raw/main/data/dwca_colab/eml_plag.xml...\n",
            "[INFO] Did not find data/eml_pyg.xml directory, creating one...\n",
            "[INFO] Downloading eml_pyg.xml from https://github.com/pocketfall/biodata/raw/main/data/dwca_colab/eml_pyg.xml...\n",
            "[INFO] Did not find data/dwca-plagioscion.zip directory, creating one...\n",
            "[INFO] Downloading dwca-plagioscion.zip from https://github.com/pocketfall/biodata/raw/main/data/dwca_colab/dwca-plagioscion.zip...\n"
          ]
        },
        {
          "output_type": "execute_result",
          "data": {
            "text/plain": [
              "[PosixPath('data/dwca-pygmy_jellyfish-v1.5.zip'),\n",
              " PosixPath('data/eml_plag.xml'),\n",
              " PosixPath('data/eml_pyg.xml'),\n",
              " PosixPath('data/dwca-plagioscion.zip')]"
            ]
          },
          "metadata": {},
          "execution_count": 4
        }
      ]
    },
    {
      "cell_type": "code",
      "source": [
        "# intentando leer con DarwinCoreArchive.from_file()\n",
        "# como en la documentacion se usara datatype string\n",
        "print(source_paths[3])\n",
        "print(source_paths[0])\n",
        "# data = DarwinCoreArchive.from_file(str(source_paths[0]))\n",
        "data = DarwinCoreArchive.from_file(str(source_paths[3]))\n",
        "\n",
        "# no se puede leer el archivo plagioscion, tampoco pygmy-jellyfish"
      ],
      "metadata": {
        "colab": {
          "base_uri": "https://localhost:8080/",
          "height": 480
        },
        "id": "3GHT8F8iMIoi",
        "outputId": "e1bf7a9f-cad0-4218-a554-d13b479cdc26"
      },
      "execution_count": null,
      "outputs": [
        {
          "output_type": "stream",
          "name": "stdout",
          "text": [
            "data/dwca-plagioscion.zip\n",
            "data/dwca-pygmy_jellyfish-v1.5.zip\n"
          ]
        },
        {
          "output_type": "error",
          "ename": "ValueError",
          "evalue": "Unicode strings with encoding declaration are not supported. Please use bytes input or XML fragments without declaration.",
          "traceback": [
            "\u001b[0;31m---------------------------------------------------------------------------\u001b[0m",
            "\u001b[0;31mValueError\u001b[0m                                Traceback (most recent call last)",
            "\u001b[0;32m<ipython-input-5-44d710e03406>\u001b[0m in \u001b[0;36m<cell line: 6>\u001b[0;34m()\u001b[0m\n\u001b[1;32m      4\u001b[0m \u001b[0mprint\u001b[0m\u001b[0;34m(\u001b[0m\u001b[0msource_paths\u001b[0m\u001b[0;34m[\u001b[0m\u001b[0;36m0\u001b[0m\u001b[0;34m]\u001b[0m\u001b[0;34m)\u001b[0m\u001b[0;34m\u001b[0m\u001b[0;34m\u001b[0m\u001b[0m\n\u001b[1;32m      5\u001b[0m \u001b[0;31m# data = DarwinCoreArchive.from_file(str(source_paths[0]))\u001b[0m\u001b[0;34m\u001b[0m\u001b[0;34m\u001b[0m\u001b[0m\n\u001b[0;32m----> 6\u001b[0;31m \u001b[0mdata\u001b[0m \u001b[0;34m=\u001b[0m \u001b[0mDarwinCoreArchive\u001b[0m\u001b[0;34m.\u001b[0m\u001b[0mfrom_file\u001b[0m\u001b[0;34m(\u001b[0m\u001b[0mstr\u001b[0m\u001b[0;34m(\u001b[0m\u001b[0msource_paths\u001b[0m\u001b[0;34m[\u001b[0m\u001b[0;36m3\u001b[0m\u001b[0;34m]\u001b[0m\u001b[0;34m)\u001b[0m\u001b[0;34m)\u001b[0m\u001b[0;34m\u001b[0m\u001b[0;34m\u001b[0m\u001b[0m\n\u001b[0m\u001b[1;32m      7\u001b[0m \u001b[0;34m\u001b[0m\u001b[0m\n\u001b[1;32m      8\u001b[0m \u001b[0;31m# no se puede leer el archivo plagioscion, tampoco pygmy-jellyfish\u001b[0m\u001b[0;34m\u001b[0m\u001b[0;34m\u001b[0m\u001b[0m\n",
            "\u001b[0;32m/usr/local/lib/python3.10/dist-packages/dwca/base/darwincore_archive.py\u001b[0m in \u001b[0;36mfrom_file\u001b[0;34m(cls, path_to_archive, lazy)\u001b[0m\n\u001b[1;32m    232\u001b[0m         \u001b[0marchive\u001b[0m \u001b[0;34m=\u001b[0m \u001b[0mzipfile\u001b[0m\u001b[0;34m.\u001b[0m\u001b[0mZipFile\u001b[0m\u001b[0;34m(\u001b[0m\u001b[0mpath_to_archive\u001b[0m\u001b[0;34m,\u001b[0m \u001b[0;34m\"r\"\u001b[0m\u001b[0;34m)\u001b[0m\u001b[0;34m\u001b[0m\u001b[0;34m\u001b[0m\u001b[0m\n\u001b[1;32m    233\u001b[0m         \u001b[0mindex_file\u001b[0m \u001b[0;34m=\u001b[0m \u001b[0marchive\u001b[0m\u001b[0;34m.\u001b[0m\u001b[0mread\u001b[0m\u001b[0;34m(\u001b[0m\u001b[0;34m\"meta.xml\"\u001b[0m\u001b[0;34m)\u001b[0m\u001b[0;34m\u001b[0m\u001b[0;34m\u001b[0m\u001b[0m\n\u001b[0;32m--> 234\u001b[0;31m         \u001b[0mmetadata\u001b[0m \u001b[0;34m=\u001b[0m \u001b[0mDarwinCoreArchive\u001b[0m\u001b[0;34m.\u001b[0m\u001b[0mMetadata\u001b[0m\u001b[0;34m.\u001b[0m\u001b[0mfrom_string\u001b[0m\u001b[0;34m(\u001b[0m\u001b[0mread_string\u001b[0m\u001b[0;34m(\u001b[0m\u001b[0mindex_file\u001b[0m\u001b[0;34m)\u001b[0m\u001b[0;34m)\u001b[0m\u001b[0;34m\u001b[0m\u001b[0;34m\u001b[0m\u001b[0m\n\u001b[0m\u001b[1;32m    235\u001b[0m         \u001b[0;32mif\u001b[0m \u001b[0mmetadata\u001b[0m\u001b[0;34m.\u001b[0m\u001b[0m__metadata__\u001b[0m \u001b[0;32mis\u001b[0m \u001b[0;32mnot\u001b[0m \u001b[0;32mNone\u001b[0m\u001b[0;34m:\u001b[0m\u001b[0;34m\u001b[0m\u001b[0;34m\u001b[0m\u001b[0m\n\u001b[1;32m    236\u001b[0m             \u001b[0mmetadata_content\u001b[0m \u001b[0;34m=\u001b[0m \u001b[0marchive\u001b[0m\u001b[0;34m.\u001b[0m\u001b[0mread\u001b[0m\u001b[0;34m(\u001b[0m\u001b[0mmetadata\u001b[0m\u001b[0;34m.\u001b[0m\u001b[0m__metadata__\u001b[0m\u001b[0;34m)\u001b[0m\u001b[0;34m\u001b[0m\u001b[0;34m\u001b[0m\u001b[0m\n",
            "\u001b[0;32m/usr/local/lib/python3.10/dist-packages/xml_common/xml_object.py\u001b[0m in \u001b[0;36mfrom_string\u001b[0;34m(cls, text)\u001b[0m\n\u001b[1;32m     66\u001b[0m         \u001b[0;32mif\u001b[0m \u001b[0mtext\u001b[0m \u001b[0;34m!=\u001b[0m \u001b[0mcleaned_text\u001b[0m \u001b[0;32mand\u001b[0m \u001b[0mcleaned_text\u001b[0m\u001b[0;34m.\u001b[0m\u001b[0mendswith\u001b[0m\u001b[0;34m(\u001b[0m\u001b[0;34m\"</xml>\"\u001b[0m\u001b[0;34m)\u001b[0m\u001b[0;34m:\u001b[0m\u001b[0;34m\u001b[0m\u001b[0;34m\u001b[0m\u001b[0m\n\u001b[1;32m     67\u001b[0m             \u001b[0mcleaned_text\u001b[0m \u001b[0;34m=\u001b[0m \u001b[0mcleaned_text\u001b[0m\u001b[0;34m[\u001b[0m\u001b[0;34m:\u001b[0m\u001b[0;34m-\u001b[0m\u001b[0;36m6\u001b[0m\u001b[0;34m]\u001b[0m\u001b[0;34m\u001b[0m\u001b[0;34m\u001b[0m\u001b[0m\n\u001b[0;32m---> 68\u001b[0;31m         \u001b[0mroot\u001b[0m \u001b[0;34m=\u001b[0m \u001b[0met\u001b[0m\u001b[0;34m.\u001b[0m\u001b[0mfromstring\u001b[0m\u001b[0;34m(\u001b[0m\u001b[0mcleaned_text\u001b[0m\u001b[0;34m)\u001b[0m\u001b[0;34m\u001b[0m\u001b[0;34m\u001b[0m\u001b[0m\n\u001b[0m\u001b[1;32m     69\u001b[0m         \u001b[0mnmap\u001b[0m \u001b[0;34m=\u001b[0m \u001b[0mdict\u001b[0m\u001b[0;34m(\u001b[0m\u001b[0;34m)\u001b[0m\u001b[0;34m\u001b[0m\u001b[0;34m\u001b[0m\u001b[0m\n\u001b[1;32m     70\u001b[0m         \u001b[0;32mfor\u001b[0m \u001b[0mprefix\u001b[0m\u001b[0;34m,\u001b[0m \u001b[0muri\u001b[0m \u001b[0;32min\u001b[0m \u001b[0mcls\u001b[0m\u001b[0;34m.\u001b[0m\u001b[0mNAMESPACES\u001b[0m\u001b[0;34m.\u001b[0m\u001b[0mitems\u001b[0m\u001b[0;34m(\u001b[0m\u001b[0;34m)\u001b[0m\u001b[0;34m:\u001b[0m\u001b[0;34m\u001b[0m\u001b[0;34m\u001b[0m\u001b[0m\n",
            "\u001b[0;32msrc/lxml/etree.pyx\u001b[0m in \u001b[0;36mlxml.etree.fromstring\u001b[0;34m()\u001b[0m\n",
            "\u001b[0;32msrc/lxml/parser.pxi\u001b[0m in \u001b[0;36mlxml.etree._parseMemoryDocument\u001b[0;34m()\u001b[0m\n",
            "\u001b[0;31mValueError\u001b[0m: Unicode strings with encoding declaration are not supported. Please use bytes input or XML fragments without declaration."
          ]
        }
      ]
    },
    {
      "cell_type": "markdown",
      "source": [
        "## 2. Escribiendo archivos DarwinCoreArchive\n",
        "\n",
        "```\n",
        "from dwca import DarwinCoreArchive\n",
        "from eml.resources import EMLResource\n",
        "from eml.types import ResponsibleParty, IndividualName\n",
        "\n",
        "# Define the metadata file future location\n",
        "darwin_core = DarwinCoreArchive(metadata=\"eml.xml\")\n",
        "```\n",
        "```\n",
        "darwin_core.metadata.initialize_resource(\n",
        "    \"Example for Darwin Core Archive\",\n",
        "    ResponsibleParty(\n",
        "        individual_name=IndividualName(\n",
        "            _id=\"1\"\n",
        "            last_name=\"Doe\",\n",
        "            first_name=\"John\",\n",
        "            salutation=\"Mr.\"\n",
        "        )\n",
        "    ),\n",
        "    contact=[ResponsibleParty(_id=\"1\", referencing=True)]\n",
        ")\n",
        "\n",
        "# Add core data\n",
        "darwin_core.set_core(\"taxon.txt\")\n",
        "# Add an extension\n",
        "darwin_core.add_extension(\"identifier.txt\")\n",
        "\n",
        "# Write the archive\n",
        "with open(\"example.zip\", \"wb\") as example_file:\n",
        "    darwin_core.to_file(example_file)\n",
        "```"
      ],
      "metadata": {
        "id": "-yfSaXd0MIx5"
      }
    },
    {
      "cell_type": "code",
      "source": [
        "# TBD"
      ],
      "metadata": {
        "id": "kkif8DSzb_EZ"
      },
      "execution_count": null,
      "outputs": []
    },
    {
      "cell_type": "markdown",
      "source": [
        "# Modulo EML\n",
        "## 1. Leyendo archivos eml\n",
        "## usando EML de plagioscion y pygmy-jellyfish\n",
        "\n",
        "## Documentación\n",
        "```\n",
        "from eml import EML\n",
        "\n",
        "eml_file = EML.from_xml(\"eml.xml\")\n",
        "\n",
        "# To see a summary of the content of the metadata file:\n",
        "print(eml_file)\n",
        "```"
      ],
      "metadata": {
        "id": "CnmaO_1HcAaq"
      }
    },
    {
      "cell_type": "code",
      "source": [
        "# dependencias\n",
        "from eml import EML"
      ],
      "metadata": {
        "id": "gVG6JI-pcAg2"
      },
      "execution_count": null,
      "outputs": []
    },
    {
      "cell_type": "code",
      "source": [
        "# leyendo eml pygmy\n",
        "print(source_paths[2])\n",
        "data_eml_pygmy = EML.from_xml(str(source_paths[2]))\n",
        "print(data_eml_pygmy)"
      ],
      "metadata": {
        "colab": {
          "base_uri": "https://localhost:8080/"
        },
        "id": "3JPDTUdkcAmI",
        "outputId": "425e2c76-bd08-4619-8c3b-78c8d627b457",
        "collapsed": true
      },
      "execution_count": null,
      "outputs": [
        {
          "output_type": "stream",
          "name": "stdout",
          "text": [
            "data/eml_pyg.xml\n",
            "EML:\n",
            "\tResource Type: DATASET\n",
            "\tTitle: A new pygmy species of box jellyfish (Cubozoa: Chirodropida) from sub-tropical Australia\n",
            "\tCreator: Gershwin, L. (Investigator at CSIRO Oceans and Atmosphere)\n",
            "\tMetadataProvider: Gershwin, L. (Investigator at CSIRO Oceans and Atmosphere)\n",
            "\tPublisher: OBIS Australia Node manager (OBIS Australia Data Manager at CSIRO National Collections and Marine Infrastructure)\n"
          ]
        }
      ]
    },
    {
      "cell_type": "code",
      "source": [
        "# leyendo eml plagioscion\n",
        "print(source_paths[1])\n",
        "data_eml = EML.from_xml(str(source_paths[1]))\n",
        "\n",
        "# no se logra leer el eml de plagioscion"
      ],
      "metadata": {
        "colab": {
          "base_uri": "https://localhost:8080/",
          "height": 463
        },
        "id": "SKx7pQFRcArg",
        "outputId": "7c7241a4-30bf-4840-c4b7-d615cb89eab3",
        "collapsed": true
      },
      "execution_count": null,
      "outputs": [
        {
          "output_type": "stream",
          "name": "stdout",
          "text": [
            "data/eml_plag.xml\n"
          ]
        },
        {
          "output_type": "error",
          "ename": "ValueError",
          "evalue": "Unicode strings with encoding declaration are not supported. Please use bytes input or XML fragments without declaration.",
          "traceback": [
            "\u001b[0;31m---------------------------------------------------------------------------\u001b[0m",
            "\u001b[0;31mValueError\u001b[0m                                Traceback (most recent call last)",
            "\u001b[0;32m<ipython-input-8-c0a7e023761f>\u001b[0m in \u001b[0;36m<cell line: 3>\u001b[0;34m()\u001b[0m\n\u001b[1;32m      1\u001b[0m \u001b[0;31m# leyendo eml plagioscion\u001b[0m\u001b[0;34m\u001b[0m\u001b[0;34m\u001b[0m\u001b[0m\n\u001b[1;32m      2\u001b[0m \u001b[0mprint\u001b[0m\u001b[0;34m(\u001b[0m\u001b[0msource_paths\u001b[0m\u001b[0;34m[\u001b[0m\u001b[0;36m1\u001b[0m\u001b[0;34m]\u001b[0m\u001b[0;34m)\u001b[0m\u001b[0;34m\u001b[0m\u001b[0;34m\u001b[0m\u001b[0m\n\u001b[0;32m----> 3\u001b[0;31m \u001b[0mdata_eml\u001b[0m \u001b[0;34m=\u001b[0m \u001b[0mEML\u001b[0m\u001b[0;34m.\u001b[0m\u001b[0mfrom_xml\u001b[0m\u001b[0;34m(\u001b[0m\u001b[0mstr\u001b[0m\u001b[0;34m(\u001b[0m\u001b[0msource_paths\u001b[0m\u001b[0;34m[\u001b[0m\u001b[0;36m1\u001b[0m\u001b[0;34m]\u001b[0m\u001b[0;34m)\u001b[0m\u001b[0;34m)\u001b[0m\u001b[0;34m\u001b[0m\u001b[0;34m\u001b[0m\u001b[0m\n\u001b[0m\u001b[1;32m      4\u001b[0m \u001b[0;34m\u001b[0m\u001b[0m\n\u001b[1;32m      5\u001b[0m \u001b[0;31m# no se logra leer el eml de plagioscion\u001b[0m\u001b[0;34m\u001b[0m\u001b[0;34m\u001b[0m\u001b[0m\n",
            "\u001b[0;32m/usr/local/lib/python3.10/dist-packages/xml_common/xml_object.py\u001b[0m in \u001b[0;36mfrom_xml\u001b[0;34m(cls, file, encoding)\u001b[0m\n\u001b[1;32m     46\u001b[0m         \u001b[0;32mwith\u001b[0m \u001b[0mopen\u001b[0m\u001b[0;34m(\u001b[0m\u001b[0mfile\u001b[0m\u001b[0;34m,\u001b[0m \u001b[0;34m\"r\"\u001b[0m\u001b[0;34m,\u001b[0m \u001b[0mencoding\u001b[0m\u001b[0;34m=\u001b[0m\u001b[0mencoding\u001b[0m\u001b[0;34m)\u001b[0m \u001b[0;32mas\u001b[0m \u001b[0mfile\u001b[0m\u001b[0;34m:\u001b[0m\u001b[0;34m\u001b[0m\u001b[0;34m\u001b[0m\u001b[0m\n\u001b[1;32m     47\u001b[0m             \u001b[0mcontent\u001b[0m \u001b[0;34m=\u001b[0m \u001b[0mfile\u001b[0m\u001b[0;34m.\u001b[0m\u001b[0mread\u001b[0m\u001b[0;34m(\u001b[0m\u001b[0;34m)\u001b[0m\u001b[0;34m\u001b[0m\u001b[0;34m\u001b[0m\u001b[0m\n\u001b[0;32m---> 48\u001b[0;31m         \u001b[0;32mreturn\u001b[0m \u001b[0mcls\u001b[0m\u001b[0;34m.\u001b[0m\u001b[0mfrom_string\u001b[0m\u001b[0;34m(\u001b[0m\u001b[0mcontent\u001b[0m\u001b[0;34m)\u001b[0m\u001b[0;34m\u001b[0m\u001b[0;34m\u001b[0m\u001b[0m\n\u001b[0m\u001b[1;32m     49\u001b[0m \u001b[0;34m\u001b[0m\u001b[0m\n\u001b[1;32m     50\u001b[0m     \u001b[0;34m@\u001b[0m\u001b[0mclassmethod\u001b[0m\u001b[0;34m\u001b[0m\u001b[0;34m\u001b[0m\u001b[0m\n",
            "\u001b[0;32m/usr/local/lib/python3.10/dist-packages/xml_common/xml_object.py\u001b[0m in \u001b[0;36mfrom_string\u001b[0;34m(cls, text)\u001b[0m\n\u001b[1;32m     66\u001b[0m         \u001b[0;32mif\u001b[0m \u001b[0mtext\u001b[0m \u001b[0;34m!=\u001b[0m \u001b[0mcleaned_text\u001b[0m \u001b[0;32mand\u001b[0m \u001b[0mcleaned_text\u001b[0m\u001b[0;34m.\u001b[0m\u001b[0mendswith\u001b[0m\u001b[0;34m(\u001b[0m\u001b[0;34m\"</xml>\"\u001b[0m\u001b[0;34m)\u001b[0m\u001b[0;34m:\u001b[0m\u001b[0;34m\u001b[0m\u001b[0;34m\u001b[0m\u001b[0m\n\u001b[1;32m     67\u001b[0m             \u001b[0mcleaned_text\u001b[0m \u001b[0;34m=\u001b[0m \u001b[0mcleaned_text\u001b[0m\u001b[0;34m[\u001b[0m\u001b[0;34m:\u001b[0m\u001b[0;34m-\u001b[0m\u001b[0;36m6\u001b[0m\u001b[0;34m]\u001b[0m\u001b[0;34m\u001b[0m\u001b[0;34m\u001b[0m\u001b[0m\n\u001b[0;32m---> 68\u001b[0;31m         \u001b[0mroot\u001b[0m \u001b[0;34m=\u001b[0m \u001b[0met\u001b[0m\u001b[0;34m.\u001b[0m\u001b[0mfromstring\u001b[0m\u001b[0;34m(\u001b[0m\u001b[0mcleaned_text\u001b[0m\u001b[0;34m)\u001b[0m\u001b[0;34m\u001b[0m\u001b[0;34m\u001b[0m\u001b[0m\n\u001b[0m\u001b[1;32m     69\u001b[0m         \u001b[0mnmap\u001b[0m \u001b[0;34m=\u001b[0m \u001b[0mdict\u001b[0m\u001b[0;34m(\u001b[0m\u001b[0;34m)\u001b[0m\u001b[0;34m\u001b[0m\u001b[0;34m\u001b[0m\u001b[0m\n\u001b[1;32m     70\u001b[0m         \u001b[0;32mfor\u001b[0m \u001b[0mprefix\u001b[0m\u001b[0;34m,\u001b[0m \u001b[0muri\u001b[0m \u001b[0;32min\u001b[0m \u001b[0mcls\u001b[0m\u001b[0;34m.\u001b[0m\u001b[0mNAMESPACES\u001b[0m\u001b[0;34m.\u001b[0m\u001b[0mitems\u001b[0m\u001b[0;34m(\u001b[0m\u001b[0;34m)\u001b[0m\u001b[0;34m:\u001b[0m\u001b[0;34m\u001b[0m\u001b[0;34m\u001b[0m\u001b[0m\n",
            "\u001b[0;32msrc/lxml/etree.pyx\u001b[0m in \u001b[0;36mlxml.etree.fromstring\u001b[0;34m()\u001b[0m\n",
            "\u001b[0;32msrc/lxml/parser.pxi\u001b[0m in \u001b[0;36mlxml.etree._parseMemoryDocument\u001b[0;34m()\u001b[0m\n",
            "\u001b[0;31mValueError\u001b[0m: Unicode strings with encoding declaration are not supported. Please use bytes input or XML fragments without declaration."
          ]
        }
      ]
    },
    {
      "cell_type": "markdown",
      "source": [
        "## 2. Creando archivos EML\n",
        "### Se probará el método dado por la documentación\n",
        "\n",
        "```\n",
        "import datetime as dt\n",
        "\n",
        "from eml import EML\n",
        "from eml.resources import EMLResource\n",
        "from eml.types import ResponsibleParty, IndividualName, OrganizationName\n",
        "\n",
        "eml_file = EML(\n",
        "    package_id=\"Example package\",\n",
        "    system=\"http://my.system\",\n",
        "    resource_type=EMLResource.DATASET,\n",
        ")\n",
        "eml_file.add_title(\"Example for Darwin Core Archive\")\n",
        "eml_file.add_creator(ResponsibleParty(\n",
        "    individual_name=IndividualName(\n",
        "        last_name=\"Doe\",\n",
        "        first_name=\"John\",\n",
        "        salutation=\"Mr.\"\n",
        "    )\n",
        "))\n",
        "eml_file.add_metadata_provider(ResponsibleParty(\n",
        "    organization_name=OrganizationName(\"Metadata Provider Organization\")\n",
        "))\n",
        "eml_file.set_publication_date(dt.date(2024, 2, 9))\n",
        "\n",
        "# For other possible information to add check the full documentation of the module.\n",
        "\n",
        "# To write the XML file\n",
        "with open(\"eml.xml\", \"w\", encoding=\"utf-8\") as file:\n",
        "    file.write(eml_file.to_xml())\n",
        "```"
      ],
      "metadata": {
        "id": "dsTLVsDtlEf6"
      }
    },
    {
      "cell_type": "code",
      "source": [
        "import datetime as dt\n",
        "from eml import EML\n",
        "from eml.resources import EMLResource\n",
        "from eml.types import ResponsibleParty, IndividualName, OrganizationName"
      ],
      "metadata": {
        "id": "9YSu44hEgEr2"
      },
      "execution_count": null,
      "outputs": []
    },
    {
      "cell_type": "code",
      "source": [
        "eml_file = EML(\n",
        "    package_id=\"11111\",\n",
        "    system=\"http://my.system\",\n",
        "    resource_type=EMLResource.DATASET,\n",
        ")\n",
        "eml_file.add_title(\"Example for Darwin Core Archive\")\n",
        "# eml_file.add_creator(ResponsibleParty(\n",
        "#     individual_name=IndividualName(\n",
        "#         last_name=\"Doe\",\n",
        "#         first_name=\"John\",\n",
        "#         salutation=\"Dr.\"\n",
        "#     )\n",
        "# ))\n",
        "# eml_file.add_metadata_provider(ResponsibleParty(\n",
        "#     organization_name=OrganizationName(\"Metadata Provider Organization\")\n",
        "# ))\n",
        "# eml_file.set_publication_date(dt.date(2024, 2, 9))\n",
        "\n",
        "# For other possible information to add check the full documentation of the module.\n",
        "\n",
        "# To write the XML file\n",
        "# with open(\"eml.xml\", \"w\", encoding=\"utf-8\") as f:\n",
        "#     f.write(eml_file.to_xml())"
      ],
      "metadata": {
        "colab": {
          "base_uri": "https://localhost:8080/",
          "height": 428
        },
        "id": "QEwwddMgcAws",
        "outputId": "8d23a77a-b22c-4017-9342-da72b7cb63f3"
      },
      "execution_count": null,
      "outputs": [
        {
          "output_type": "error",
          "ename": "RuntimeError",
          "evalue": "Resource not initialized yet",
          "traceback": [
            "\u001b[0;31m---------------------------------------------------------------------------\u001b[0m",
            "\u001b[0;31mValueError\u001b[0m                                Traceback (most recent call last)",
            "\u001b[0;32m/usr/local/lib/python3.10/dist-packages/eml/base/eml.py\u001b[0m in \u001b[0;36mresource\u001b[0;34m(self)\u001b[0m\n\u001b[1;32m    148\u001b[0m             \u001b[0;32mtry\u001b[0m\u001b[0;34m:\u001b[0m\u001b[0;34m\u001b[0m\u001b[0;34m\u001b[0m\u001b[0m\n\u001b[0;32m--> 149\u001b[0;31m                 \u001b[0mself\u001b[0m\u001b[0;34m.\u001b[0m\u001b[0m__resource__\u001b[0m \u001b[0;34m=\u001b[0m \u001b[0mself\u001b[0m\u001b[0;34m.\u001b[0m\u001b[0m__resource_class__\u001b[0m\u001b[0;34m(\u001b[0m\u001b[0;34m**\u001b[0m\u001b[0mself\u001b[0m\u001b[0;34m.\u001b[0m\u001b[0m__kwargs__\u001b[0m\u001b[0;34m)\u001b[0m\u001b[0;34m\u001b[0m\u001b[0;34m\u001b[0m\u001b[0m\n\u001b[0m\u001b[1;32m    150\u001b[0m                 \u001b[0;32mreturn\u001b[0m \u001b[0mself\u001b[0m\u001b[0;34m.\u001b[0m\u001b[0m__resource__\u001b[0m\u001b[0;34m\u001b[0m\u001b[0;34m\u001b[0m\u001b[0m\n",
            "\u001b[0;32m/usr/local/lib/python3.10/dist-packages/eml/resources/dataset.py\u001b[0m in \u001b[0;36m__init__\u001b[0;34m(self, contact, **kwargs)\u001b[0m\n\u001b[1;32m     31\u001b[0m     ) -> None:\n\u001b[0;32m---> 32\u001b[0;31m         \u001b[0msuper\u001b[0m\u001b[0;34m(\u001b[0m\u001b[0;34m)\u001b[0m\u001b[0;34m.\u001b[0m\u001b[0m__init__\u001b[0m\u001b[0;34m(\u001b[0m\u001b[0;34m**\u001b[0m\u001b[0mkwargs\u001b[0m\u001b[0;34m)\u001b[0m\u001b[0;34m\u001b[0m\u001b[0;34m\u001b[0m\u001b[0m\n\u001b[0m\u001b[1;32m     33\u001b[0m         \u001b[0mself\u001b[0m\u001b[0;34m.\u001b[0m\u001b[0m__contact__\u001b[0m \u001b[0;34m=\u001b[0m \u001b[0mlist\u001b[0m\u001b[0;34m(\u001b[0m\u001b[0;34m)\u001b[0m\u001b[0;34m\u001b[0m\u001b[0;34m\u001b[0m\u001b[0m\n",
            "\u001b[0;32m/usr/local/lib/python3.10/dist-packages/eml/resources/resource.py\u001b[0m in \u001b[0;36m__init__\u001b[0;34m(self, _id, scope, system, referencing, references_system, alternative_identifier, short_name, titles, creators, metadata_providers, associated_parties, publication_date, language, series, abstract, keyword_set, additional_info, intellectual_rights, licensed, distribution, coverage, annotation)\u001b[0m\n\u001b[1;32m     87\u001b[0m         \u001b[0;32mif\u001b[0m \u001b[0mtitles\u001b[0m \u001b[0;32mis\u001b[0m \u001b[0;32mNone\u001b[0m \u001b[0;32mor\u001b[0m \u001b[0mlen\u001b[0m\u001b[0;34m(\u001b[0m\u001b[0mtitles\u001b[0m\u001b[0;34m)\u001b[0m \u001b[0;34m==\u001b[0m \u001b[0;36m0\u001b[0m\u001b[0;34m:\u001b[0m\u001b[0;34m\u001b[0m\u001b[0;34m\u001b[0m\u001b[0m\n\u001b[0;32m---> 88\u001b[0;31m             \u001b[0;32mraise\u001b[0m \u001b[0mValueError\u001b[0m\u001b[0;34m(\u001b[0m\u001b[0;34m\"No titles provided\"\u001b[0m\u001b[0;34m)\u001b[0m\u001b[0;34m\u001b[0m\u001b[0;34m\u001b[0m\u001b[0m\n\u001b[0m\u001b[1;32m     89\u001b[0m         \u001b[0mself\u001b[0m\u001b[0;34m.\u001b[0m\u001b[0m__titles__\u001b[0m\u001b[0;34m.\u001b[0m\u001b[0mextend\u001b[0m\u001b[0;34m(\u001b[0m\u001b[0;34m[\u001b[0m\u001b[0mI18nString\u001b[0m\u001b[0;34m(\u001b[0m\u001b[0mtitle\u001b[0m\u001b[0;34m)\u001b[0m \u001b[0;32mfor\u001b[0m \u001b[0mtitle\u001b[0m \u001b[0;32min\u001b[0m \u001b[0mtitles\u001b[0m\u001b[0;34m]\u001b[0m\u001b[0;34m)\u001b[0m\u001b[0;34m\u001b[0m\u001b[0;34m\u001b[0m\u001b[0m\n",
            "\u001b[0;31mValueError\u001b[0m: No titles provided",
            "\nDuring handling of the above exception, another exception occurred:\n",
            "\u001b[0;31mRuntimeError\u001b[0m                              Traceback (most recent call last)",
            "\u001b[0;32m<ipython-input-10-d8680db689d7>\u001b[0m in \u001b[0;36m<cell line: 6>\u001b[0;34m()\u001b[0m\n\u001b[1;32m      4\u001b[0m     \u001b[0mresource_type\u001b[0m\u001b[0;34m=\u001b[0m\u001b[0mEMLResource\u001b[0m\u001b[0;34m.\u001b[0m\u001b[0mDATASET\u001b[0m\u001b[0;34m,\u001b[0m\u001b[0;34m\u001b[0m\u001b[0;34m\u001b[0m\u001b[0m\n\u001b[1;32m      5\u001b[0m )\n\u001b[0;32m----> 6\u001b[0;31m \u001b[0meml_file\u001b[0m\u001b[0;34m.\u001b[0m\u001b[0madd_title\u001b[0m\u001b[0;34m(\u001b[0m\u001b[0;34m\"Example for Darwin Core Archive\"\u001b[0m\u001b[0;34m)\u001b[0m\u001b[0;34m\u001b[0m\u001b[0;34m\u001b[0m\u001b[0m\n\u001b[0m\u001b[1;32m      7\u001b[0m \u001b[0;31m# eml_file.add_creator(ResponsibleParty(\u001b[0m\u001b[0;34m\u001b[0m\u001b[0;34m\u001b[0m\u001b[0m\n\u001b[1;32m      8\u001b[0m \u001b[0;31m#     individual_name=IndividualName(\u001b[0m\u001b[0;34m\u001b[0m\u001b[0;34m\u001b[0m\u001b[0m\n",
            "\u001b[0;32m/usr/local/lib/python3.10/dist-packages/eml/base/eml.py\u001b[0m in \u001b[0;36madd_title\u001b[0;34m(self, title, language)\u001b[0m\n\u001b[1;32m    212\u001b[0m             \u001b[0mThe\u001b[0m \u001b[0mlanguage\u001b[0m \u001b[0mof\u001b[0m \u001b[0mthe\u001b[0m \u001b[0mtitle\u001b[0m\u001b[0;34m.\u001b[0m \u001b[0mIf\u001b[0m \u001b[0mthe\u001b[0m \u001b[0mtitle\u001b[0m \u001b[0mgiven\u001b[0m \u001b[0;32mis\u001b[0m \u001b[0ma\u001b[0m \u001b[0mI18nString\u001b[0m\u001b[0;34m,\u001b[0m \u001b[0mthis\u001b[0m \u001b[0margument\u001b[0m \u001b[0;32mis\u001b[0m \u001b[0mdiscarded\u001b[0m\u001b[0;34m.\u001b[0m\u001b[0;34m\u001b[0m\u001b[0;34m\u001b[0m\u001b[0m\n\u001b[1;32m    213\u001b[0m         \"\"\"\n\u001b[0;32m--> 214\u001b[0;31m         \u001b[0mself\u001b[0m\u001b[0;34m.\u001b[0m\u001b[0mresource\u001b[0m\u001b[0;34m.\u001b[0m\u001b[0m__titles__\u001b[0m\u001b[0;34m.\u001b[0m\u001b[0mappend\u001b[0m\u001b[0;34m(\u001b[0m\u001b[0mI18nString\u001b[0m\u001b[0;34m(\u001b[0m\u001b[0mtitle\u001b[0m\u001b[0;34m,\u001b[0m \u001b[0mlanguage\u001b[0m\u001b[0;34m)\u001b[0m\u001b[0;34m)\u001b[0m\u001b[0;34m\u001b[0m\u001b[0;34m\u001b[0m\u001b[0m\n\u001b[0m\u001b[1;32m    215\u001b[0m         \u001b[0;32mreturn\u001b[0m\u001b[0;34m\u001b[0m\u001b[0;34m\u001b[0m\u001b[0m\n\u001b[1;32m    216\u001b[0m \u001b[0;34m\u001b[0m\u001b[0m\n",
            "\u001b[0;32m/usr/local/lib/python3.10/dist-packages/eml/base/eml.py\u001b[0m in \u001b[0;36mresource\u001b[0;34m(self)\u001b[0m\n\u001b[1;32m    150\u001b[0m                 \u001b[0;32mreturn\u001b[0m \u001b[0mself\u001b[0m\u001b[0;34m.\u001b[0m\u001b[0m__resource__\u001b[0m\u001b[0;34m\u001b[0m\u001b[0;34m\u001b[0m\u001b[0m\n\u001b[1;32m    151\u001b[0m             \u001b[0;32mexcept\u001b[0m \u001b[0mException\u001b[0m \u001b[0;32mas\u001b[0m \u001b[0m_\u001b[0m\u001b[0;34m:\u001b[0m\u001b[0;34m\u001b[0m\u001b[0;34m\u001b[0m\u001b[0m\n\u001b[0;32m--> 152\u001b[0;31m                 \u001b[0;32mraise\u001b[0m \u001b[0mRuntimeError\u001b[0m\u001b[0;34m(\u001b[0m\u001b[0;34m\"Resource not initialized yet\"\u001b[0m\u001b[0;34m)\u001b[0m\u001b[0;34m\u001b[0m\u001b[0;34m\u001b[0m\u001b[0m\n\u001b[0m\u001b[1;32m    153\u001b[0m         \u001b[0;32mreturn\u001b[0m \u001b[0mself\u001b[0m\u001b[0;34m.\u001b[0m\u001b[0m__resource__\u001b[0m\u001b[0;34m\u001b[0m\u001b[0;34m\u001b[0m\u001b[0m\n\u001b[1;32m    154\u001b[0m \u001b[0;34m\u001b[0m\u001b[0m\n",
            "\u001b[0;31mRuntimeError\u001b[0m: Resource not initialized yet"
          ]
        }
      ]
    },
    {
      "cell_type": "markdown",
      "source": [
        "# Resumen\n",
        "## Modulo dwca\n",
        "> * ### Se usó para leer archivos unicamente\n",
        "* ### No se pudo leer plagioscion ni otros archivos .zip con DarwinCoreArhive.from_file()\n",
        "* ### No se ha probado el escribir un DarwinCoreArchive aún\n",
        "\n",
        "## Modulo EML\n",
        "> * ### Se usó para leer archivos eml.xml de plagioscion y pygmy-jellyfish\n",
        "* ### No leyó el eml de plagioscion\n",
        "* ### Si leyó el eml de pygmy-jellyfish\n",
        "* ### eml de pygmy-jellyfish mostraba la data del archivo, sin embargo, este unicamente tiene ocurrencias\n",
        ">>\n",
        "\t```\n",
        "  EML:\n",
        "  Resource Type: DATASET\n",
        "\tTitle: A new pygmy species of box jellyfish (Cubozoa: Chirodropida) from sub-tropical Australia\n",
        "\tCreator: Gershwin, L. (Investigator at CSIRO Oceans and Atmosphere)\n",
        "\tMetadataProvider: Gershwin, L. (Investigator at CSIRO Oceans and Atmosphere)\n",
        "\tPublisher: OBIS Australia Node manager (OBIS Australia Data Manager at CSIRO National Collections and Marine Infrastructure)\n",
        "  ```\n",
        "* ### Al intentar escribir un eml se encontro un problema con EML.add_title()\n",
        ">>\n",
        "  ```\n",
        "  ValueError: No titles providedDuring handling of the above exception, another exception occurred:\n",
        "  RuntimeError                              \n",
        "  ```\n",
        "  ```\n",
        "  Traceback (most recent call last)\n",
        "  /usr/local/lib/python3.10/dist-packages/eml/base/eml.py in resource(self)\n",
        "      150                 return self.__resource__\n",
        "      151             except Exception as _:\n",
        "  --> 152                 raise RuntimeError(\"Resource not initialized yet\")\n",
        "      153         return self.__resource__\n",
        "  ```"
      ],
      "metadata": {
        "id": "wjRR2KV1cA2b"
      }
    },
    {
      "cell_type": "code",
      "source": [],
      "metadata": {
        "id": "faZg47VVcA7r"
      },
      "execution_count": null,
      "outputs": []
    },
    {
      "cell_type": "code",
      "source": [],
      "metadata": {
        "id": "uUeoq3qHcBBJ"
      },
      "execution_count": null,
      "outputs": []
    }
  ]
}